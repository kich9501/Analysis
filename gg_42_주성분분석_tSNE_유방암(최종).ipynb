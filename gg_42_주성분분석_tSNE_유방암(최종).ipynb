{
 "cells": [
  {
   "cell_type": "markdown",
   "metadata": {
    "colab_type": "text",
    "id": "8EfCzUpYuJEB"
   },
   "source": [
    "주성분분석-유방암\n",
    "==\n",
    "\n",
    "- 먼저 20% 중요 데이터만 사용, SelectPercentile\n",
    "- 주성분 분석\n",
    "- t-SNE "
   ]
  },
  {
   "cell_type": "code",
   "execution_count": 57,
   "metadata": {
    "colab": {},
    "colab_type": "code",
    "id": "h4bBPfhCuJED"
   },
   "outputs": [],
   "source": [
    "import numpy as np\n",
    "import pandas as pd\n",
    "from sklearn.datasets import load_breast_cancer\n",
    "from sklearn.model_selection import train_test_split, cross_val_score\n",
    "from sklearn.ensemble import RandomForestClassifier \n",
    "from sklearn import feature_selection\n",
    "from sklearn.feature_selection import SelectPercentile\n",
    "from sklearn.preprocessing import StandardScaler\n",
    "from sklearn.decomposition import PCA \n",
    "from sklearn.manifold import TSNE\n",
    "from matplotlib import pyplot as plt\n",
    "import seaborn as sns\n",
    "%matplotlib inline"
   ]
  },
  {
   "cell_type": "code",
   "execution_count": 58,
   "metadata": {},
   "outputs": [],
   "source": [
    "cancer = load_breast_cancer()"
   ]
  },
  {
   "cell_type": "code",
   "execution_count": 59,
   "metadata": {},
   "outputs": [],
   "source": [
    "X_all = cancer.data\n",
    "y = cancer.target"
   ]
  },
  {
   "cell_type": "markdown",
   "metadata": {},
   "source": [
    "### 표준 정규화\n",
    "- X_all"
   ]
  },
  {
   "cell_type": "code",
   "execution_count": 60,
   "metadata": {
    "colab": {},
    "colab_type": "code",
    "id": "xq-skYDIuJEI"
   },
   "outputs": [],
   "source": [
    "sc = StandardScaler()\n",
    "X_all = sc.fit_transform(X_all)"
   ]
  },
  {
   "cell_type": "code",
   "execution_count": 61,
   "metadata": {
    "colab": {
     "base_uri": "https://localhost:8080/",
     "height": 35
    },
    "colab_type": "code",
    "executionInfo": {
     "elapsed": 1243,
     "status": "ok",
     "timestamp": 1559890605566,
     "user": {
      "displayName": "김화종",
      "photoUrl": "https://lh4.googleusercontent.com/-sR-MVK_KsAg/AAAAAAAAAAI/AAAAAAAALbE/3e3Eq9nrGuw/s64/photo.jpg",
      "userId": "17353049580175403985"
     },
     "user_tz": -540
    },
    "id": "o6D8iWQGuJEL",
    "outputId": "80122ff2-70dd-4170-9e64-573da8536467"
   },
   "outputs": [
    {
     "data": {
      "text/plain": [
       "(569, 30)"
      ]
     },
     "execution_count": 61,
     "metadata": {},
     "output_type": "execute_result"
    }
   ],
   "source": [
    "X_all.shape"
   ]
  },
  {
   "cell_type": "code",
   "execution_count": 62,
   "metadata": {
    "colab": {
     "base_uri": "https://localhost:8080/",
     "height": 190
    },
    "colab_type": "code",
    "executionInfo": {
     "elapsed": 489,
     "status": "ok",
     "timestamp": 1559890606812,
     "user": {
      "displayName": "김화종",
      "photoUrl": "https://lh4.googleusercontent.com/-sR-MVK_KsAg/AAAAAAAAAAI/AAAAAAAALbE/3e3Eq9nrGuw/s64/photo.jpg",
      "userId": "17353049580175403985"
     },
     "user_tz": -540
    },
    "id": "Yc6IVgq4uJER",
    "outputId": "e8c3510d-5df6-46fa-8d98-3cb15f23db32",
    "scrolled": true
   },
   "outputs": [
    {
     "data": {
      "text/plain": [
       "array(['mean radius', 'mean texture', 'mean perimeter', 'mean area',\n",
       "       'mean smoothness', 'mean compactness', 'mean concavity',\n",
       "       'mean concave points', 'mean symmetry', 'mean fractal dimension',\n",
       "       'radius error', 'texture error', 'perimeter error', 'area error',\n",
       "       'smoothness error', 'compactness error', 'concavity error',\n",
       "       'concave points error', 'symmetry error',\n",
       "       'fractal dimension error', 'worst radius', 'worst texture',\n",
       "       'worst perimeter', 'worst area', 'worst smoothness',\n",
       "       'worst compactness', 'worst concavity', 'worst concave points',\n",
       "       'worst symmetry', 'worst fractal dimension'], dtype='<U23')"
      ]
     },
     "execution_count": 62,
     "metadata": {},
     "output_type": "execute_result"
    }
   ],
   "source": [
    "cancer.feature_names"
   ]
  },
  {
   "cell_type": "markdown",
   "metadata": {
    "colab_type": "text",
    "id": "ff3BlI3DuJEV"
   },
   "source": [
    "## 30개의 특성을 모두 사용하는 경우"
   ]
  },
  {
   "cell_type": "code",
   "execution_count": 63,
   "metadata": {
    "colab": {},
    "colab_type": "code",
    "id": "LYiqPUqrudlE"
   },
   "outputs": [],
   "source": [
    "rfc = RandomForestClassifier(n_estimators=200)"
   ]
  },
  {
   "cell_type": "code",
   "execution_count": 64,
   "metadata": {
    "colab": {
     "base_uri": "https://localhost:8080/",
     "height": 35
    },
    "colab_type": "code",
    "executionInfo": {
     "elapsed": 2211,
     "status": "ok",
     "timestamp": 1559890654271,
     "user": {
      "displayName": "김화종",
      "photoUrl": "https://lh4.googleusercontent.com/-sR-MVK_KsAg/AAAAAAAAAAI/AAAAAAAALbE/3e3Eq9nrGuw/s64/photo.jpg",
      "userId": "17353049580175403985"
     },
     "user_tz": -540
    },
    "id": "Y8khE-51uJEW",
    "outputId": "488e72c6-73c0-4b2e-8a70-cf2628c661c8",
    "scrolled": false
   },
   "outputs": [
    {
     "data": {
      "text/plain": [
       "0.9614"
      ]
     },
     "execution_count": 64,
     "metadata": {},
     "output_type": "execute_result"
    }
   ],
   "source": [
    "## 교차검증\n",
    "cross_val_score(rfc, X_all, y, cv=5).mean().round(4)"
   ]
  },
  {
   "cell_type": "markdown",
   "metadata": {
    "colab_type": "text",
    "id": "sWaKowWbuJEa"
   },
   "source": [
    "## 일부 특성만(20%, 6개) 사용하는 경우"
   ]
  },
  {
   "cell_type": "markdown",
   "metadata": {},
   "source": [
    "### 어떤 속성을 선택하는 것이 좋을지를 컴퓨터가 자동으로 찾아 주는 방법\n",
    "- #### 가장 널리 사용되는 방법\n",
    "    - 목적 변수와 상관관계가 높은 변수들을 찾는 것 \n",
    "    \n",
    "### SelectPercentile()\n",
    "- #### 상관관계가 높은 순서대로 속성들을 나열하고 \n",
    "- #### 상위 몇 %까지의 특성을 선택해 주는 함수\n",
    "- #### 기준 : chi2 (카이제곱 분포에 따른 검정)"
   ]
  },
  {
   "cell_type": "code",
   "execution_count": 65,
   "metadata": {},
   "outputs": [],
   "source": [
    "fs = SelectPercentile(feature_selection.chi2, percentile = 20)"
   ]
  },
  {
   "cell_type": "markdown",
   "metadata": {},
   "source": [
    "### 상위 20% 특징 데이터 & 표준 정규화\n",
    "- X_P"
   ]
  },
  {
   "cell_type": "code",
   "execution_count": 66,
   "metadata": {},
   "outputs": [],
   "source": [
    "X_P = fs.fit_transform(cancer.data, y)\n",
    "X_P = sc.fit_transform(X_P)"
   ]
  },
  {
   "cell_type": "markdown",
   "metadata": {},
   "source": [
    "### get_support()\n",
    "- 선택된 열을 불리언 형식으로 표현 (True, False, ...)"
   ]
  },
  {
   "cell_type": "code",
   "execution_count": 67,
   "metadata": {
    "scrolled": true
   },
   "outputs": [
    {
     "data": {
      "text/plain": [
       "array([False, False,  True,  True, False, False, False, False, False,\n",
       "       False, False, False, False,  True, False, False, False, False,\n",
       "       False, False,  True, False,  True,  True, False, False, False,\n",
       "       False, False, False])"
      ]
     },
     "execution_count": 67,
     "metadata": {},
     "output_type": "execute_result"
    }
   ],
   "source": [
    "fs.get_support()"
   ]
  },
  {
   "cell_type": "code",
   "execution_count": 68,
   "metadata": {
    "colab": {
     "base_uri": "https://localhost:8080/",
     "height": 52
    },
    "colab_type": "code",
    "executionInfo": {
     "elapsed": 901,
     "status": "ok",
     "timestamp": 1559890736130,
     "user": {
      "displayName": "김화종",
      "photoUrl": "https://lh4.googleusercontent.com/-sR-MVK_KsAg/AAAAAAAAAAI/AAAAAAAALbE/3e3Eq9nrGuw/s64/photo.jpg",
      "userId": "17353049580175403985"
     },
     "user_tz": -540
    },
    "id": "-sBVJF96uJEb",
    "outputId": "11a72afb-7fe9-43c0-ac71-1a6a43ff9fa7",
    "scrolled": true
   },
   "outputs": [
    {
     "data": {
      "text/plain": [
       "array(['mean perimeter', 'mean area', 'area error', 'worst radius',\n",
       "       'worst perimeter', 'worst area'], dtype='<U23')"
      ]
     },
     "execution_count": 68,
     "metadata": {},
     "output_type": "execute_result"
    }
   ],
   "source": [
    "cancer.feature_names[fs.get_support()]"
   ]
  },
  {
   "cell_type": "code",
   "execution_count": 69,
   "metadata": {
    "colab": {},
    "colab_type": "code",
    "id": "7h845znquJEe",
    "outputId": "486daf1a-e075-4690-d4b8-704dbf787b13",
    "scrolled": true
   },
   "outputs": [
    {
     "data": {
      "text/plain": [
       "0.9333"
      ]
     },
     "execution_count": 69,
     "metadata": {},
     "output_type": "execute_result"
    }
   ],
   "source": [
    "cross_val_score(rfc, X_P, y).mean().round(4)"
   ]
  },
  {
   "cell_type": "markdown",
   "metadata": {
    "colab_type": "text",
    "id": "c1oEerlcuJEi"
   },
   "source": [
    "## 일부 특성만(6%, 2개) 사용하는 경우"
   ]
  },
  {
   "cell_type": "code",
   "execution_count": 70,
   "metadata": {
    "colab": {},
    "colab_type": "code",
    "id": "N5g9oG5quJEi",
    "outputId": "65fe2ff8-66a2-4094-ee85-d5f7f3f292a5"
   },
   "outputs": [
    {
     "data": {
      "text/plain": [
       "array(['mean area', 'worst area'], dtype='<U23')"
      ]
     },
     "execution_count": 70,
     "metadata": {},
     "output_type": "execute_result"
    }
   ],
   "source": [
    "# 상위 20%의 유효한 특성만 선택 (6개))\n",
    "fs = SelectPercentile(feature_selection.chi2, percentile = 6)\n",
    "X_P = fs.fit_transform(cancer.data, y)\n",
    "X_P = sc.fit_transform(X_P)\n",
    "cancer.feature_names[fs.get_support()]"
   ]
  },
  {
   "cell_type": "code",
   "execution_count": 71,
   "metadata": {
    "colab": {},
    "colab_type": "code",
    "id": "XhQQI62XuJEm",
    "outputId": "47225e83-4d8c-4d0b-f529-515c26d6966f"
   },
   "outputs": [
    {
     "data": {
      "text/plain": [
       "((569, 30), (569, 2))"
      ]
     },
     "execution_count": 71,
     "metadata": {},
     "output_type": "execute_result"
    }
   ],
   "source": [
    "cancer.data.shape, X_P.shape"
   ]
  },
  {
   "cell_type": "code",
   "execution_count": 72,
   "metadata": {
    "colab": {},
    "colab_type": "code",
    "id": "au31ICV-uJEq",
    "outputId": "459f4904-db2f-4a04-84d9-db87bb7f2f3d",
    "scrolled": true
   },
   "outputs": [
    {
     "data": {
      "text/plain": [
       "0.9209"
      ]
     },
     "execution_count": 72,
     "metadata": {},
     "output_type": "execute_result"
    }
   ],
   "source": [
    "cross_val_score(rfc, X_P, y).mean().round(4)"
   ]
  },
  {
   "cell_type": "markdown",
   "metadata": {
    "colab_type": "text",
    "id": "649U7hdruJEu"
   },
   "source": [
    "## 주성분 분석(PCA)로 2개의 차원만 사용하는 경우\n",
    "- https://excelsior-cjh.tistory.com/167"
   ]
  },
  {
   "cell_type": "code",
   "execution_count": 83,
   "metadata": {
    "colab": {},
    "colab_type": "code",
    "id": "vJpDqpqvuJEv"
   },
   "outputs": [],
   "source": [
    "pca = PCA(n_components=2)\n",
    "\n",
    "# 표준 정규화 전 : cancer.data\n",
    "pca_result = pca.fit_transform(cancer.data)\n",
    "\n",
    "# 표준 정규화 후 : X_all\n",
    "# pca_result = pca.fit_transform(X_all)"
   ]
  },
  {
   "cell_type": "code",
   "execution_count": 84,
   "metadata": {
    "colab": {},
    "colab_type": "code",
    "id": "5wkRsHLUuJEy",
    "outputId": "62123cab-ea48-47fe-da4f-1230e4909151"
   },
   "outputs": [
    {
     "data": {
      "image/png": "[encoded data removed]",
      "text/plain": [
       "<Figure size 576x432 with 1 Axes>"
      ]
     },
     "metadata": {
      "needs_background": "light"
     },
     "output_type": "display_data"
    }
   ],
   "source": [
    "m = ['v', 'o']\n",
    "c = ['r','b']\n",
    "plt.figure(figsize=(8,6))\n",
    "for i in range(len(y)):\n",
    "    plt.scatter(pca_result[:,0][i],pca_result[:,1][i], marker=m[y[i]], c=c[y[i]], s=5)\n",
    "plt.show()"
   ]
  },
  {
   "cell_type": "markdown",
   "metadata": {},
   "source": [
    "#### pca.components_ \n",
    "- 두 개의 주성분을 만들기 위해서 \n",
    "- 기존의 30개의 특성에 각각 어떤 가중치를 곱하였는지를 알려주는 내부변수"
   ]
  },
  {
   "cell_type": "code",
   "execution_count": 85,
   "metadata": {
    "colab": {},
    "colab_type": "code",
    "id": "BybjlXpnuJE6",
    "outputId": "61e46808-39bb-4d26-f841-70f52cd4da95",
    "scrolled": true
   },
   "outputs": [
    {
     "data": {
      "text/plain": [
       "array([[ 0.005,  0.002,  0.035,  0.517,  0.   ,  0.   ,  0.   ,  0.   ,\n",
       "         0.   , -0.   ,  0.   , -0.   ,  0.002,  0.056, -0.   ,  0.   ,\n",
       "         0.   ,  0.   , -0.   , -0.   ,  0.007,  0.003,  0.049,  0.852,\n",
       "         0.   ,  0.   ,  0.   ,  0.   ,  0.   ,  0.   ],\n",
       "       [ 0.009, -0.003,  0.063,  0.852, -0.   , -0.   ,  0.   ,  0.   ,\n",
       "        -0.   , -0.   , -0.   ,  0.   ,  0.001,  0.008,  0.   ,  0.   ,\n",
       "         0.   ,  0.   ,  0.   ,  0.   , -0.001, -0.013, -0.   , -0.52 ,\n",
       "        -0.   , -0.   , -0.   , -0.   , -0.   , -0.   ]])"
      ]
     },
     "execution_count": 85,
     "metadata": {},
     "output_type": "execute_result"
    }
   ],
   "source": [
    "pca.components_.round(3)"
   ]
  },
  {
   "cell_type": "markdown",
   "metadata": {},
   "source": [
    "#### pca.explained_variance_ratio_\n",
    "- 각 주성분 요소들이 얼마나 데이터를 잘 설명하는지를 알려준다"
   ]
  },
  {
   "cell_type": "code",
   "execution_count": 86,
   "metadata": {
    "colab": {},
    "colab_type": "code",
    "id": "HDmFt3jpuJFA",
    "outputId": "0413dc56-c7be-47d6-c8dd-73ab1bc4ffe5",
    "scrolled": true
   },
   "outputs": [
    {
     "data": {
      "text/plain": [
       "(array([0.98204467, 0.01617649]), 0.9982211613741716)"
      ]
     },
     "execution_count": 86,
     "metadata": {},
     "output_type": "execute_result"
    }
   ],
   "source": [
    "pca.explained_variance_ratio_, sum(pca.explained_variance_ratio_)"
   ]
  },
  {
   "cell_type": "markdown",
   "metadata": {
    "colab_type": "text",
    "id": "UOqII4d_uJFE"
   },
   "source": [
    "## 2개의 주성분만 사용하여 분류를 수행"
   ]
  },
  {
   "cell_type": "code",
   "execution_count": 87,
   "metadata": {
    "colab": {},
    "colab_type": "code",
    "id": "KVKMqsOEuJFF",
    "outputId": "ce9e83c8-13aa-4b2c-a179-65ecb8cc8a20",
    "scrolled": true
   },
   "outputs": [
    {
     "data": {
      "text/plain": [
       "0.9245"
      ]
     },
     "execution_count": 87,
     "metadata": {},
     "output_type": "execute_result"
    }
   ],
   "source": [
    "cross_val_score(rfc, pca_result, y, cv=5).mean().round(4)"
   ]
  },
  {
   "cell_type": "markdown",
   "metadata": {
    "colab_type": "text",
    "id": "ve1r8Ep0uJFK"
   },
   "source": [
    "## 6개의 주성분만 사용하여 분류를 수행"
   ]
  },
  {
   "cell_type": "code",
   "execution_count": 88,
   "metadata": {
    "colab": {},
    "colab_type": "code",
    "id": "hpWPL4NeuJFL",
    "outputId": "5a4141ca-4c17-4e73-a002-3628b60421cb"
   },
   "outputs": [
    {
     "data": {
      "text/plain": [
       "0.9525"
      ]
     },
     "execution_count": 88,
     "metadata": {},
     "output_type": "execute_result"
    }
   ],
   "source": [
    "pca = PCA(n_components=6)\n",
    "pca_result = pca.fit_transform(X_all)\n",
    "cross_val_score(rfc, pca_result, y, cv=5).mean().round(4)"
   ]
  },
  {
   "cell_type": "markdown",
   "metadata": {},
   "source": [
    "### 성능 비교 (PCA의 경우, 개선)\n",
    "- 30개 특성 모두 사용했을 때의 성능 : 0.965\n",
    "- SelectPercentile()을 이용한 특성 선택(2개, 6개)\n",
    "- pca를 사용해서 특성을 선택(2개, 6개)"
   ]
  },
  {
   "cell_type": "markdown",
   "metadata": {
    "colab_type": "text",
    "id": "jO0pBPYauJFR"
   },
   "source": [
    "## t-SNE 시각화\n",
    "- 다차원 공간의 특성들의 관계를 사람이 볼 수 있도록\n",
    "- 데이터를 2, 3차원 이하로 변환하는 작업\n",
    "- 비지도 학습의 일종\n",
    "- https://www.linkedin.com/pulse/dimensionality-reduction-using-tsne-python-deepak-kumar"
   ]
  },
  {
   "cell_type": "markdown",
   "metadata": {},
   "source": [
    "### TSNE : manifold learning algorithms\n",
    "- perplexity\n",
    "    - the number of nearest neighbors(학습에 영향을 이웃 데이터)\n",
    "    - slelect a value between 5 and 50 \n",
    "    - Larger datasets usually require a larger perplexity\n",
    "    \n",
    "- verbose \n",
    "    - Iterative display\n",
    "    - specified as 0, 1, or 2. \n",
    "    - When Verbose is not 0, tsne prints a summary table of the Kullback-Leibler divergence and the norm of its gradient every NumPrint iterations.\n",
    "  "
   ]
  },
  {
   "cell_type": "code",
   "execution_count": 79,
   "metadata": {},
   "outputs": [
    {
     "name": "stdout",
     "output_type": "stream",
     "text": [
      "[t-SNE] Computing 121 nearest neighbors...\n",
      "[t-SNE] Indexed 569 samples in 0.003s...\n",
      "[t-SNE] Computed neighbors for 569 samples in 0.022s...\n",
      "[t-SNE] Computed conditional probabilities for sample 569 / 569\n",
      "[t-SNE] Mean sigma: 33.679708\n",
      "[t-SNE] Computed conditional probabilities in 0.059s\n",
      "[t-SNE] Iteration 50: error = 51.2316513, gradient norm = 0.4600688 (50 iterations in 0.176s)\n",
      "[t-SNE] Iteration 100: error = 49.3602638, gradient norm = 0.4640620 (50 iterations in 0.155s)\n",
      "[t-SNE] Iteration 150: error = 49.5006828, gradient norm = 0.4582366 (50 iterations in 0.161s)\n",
      "[t-SNE] Iteration 200: error = 49.2825203, gradient norm = 0.4585675 (50 iterations in 0.145s)\n",
      "[t-SNE] Iteration 250: error = 49.4900970, gradient norm = 0.4580026 (50 iterations in 0.157s)\n",
      "[t-SNE] KL divergence after 250 iterations with early exaggeration: 49.490097\n",
      "[t-SNE] Iteration 300: error = 0.2718217, gradient norm = 0.0042292 (50 iterations in 0.132s)\n",
      "[t-SNE] Iteration 350: error = 0.2314355, gradient norm = 0.0004721 (50 iterations in 0.143s)\n",
      "[t-SNE] Iteration 400: error = 0.2252895, gradient norm = 0.0002346 (50 iterations in 0.135s)\n",
      "[t-SNE] Iteration 450: error = 0.2226024, gradient norm = 0.0002156 (50 iterations in 0.145s)\n",
      "[t-SNE] Iteration 500: error = 0.2210882, gradient norm = 0.0001968 (50 iterations in 0.145s)\n",
      "[t-SNE] Iteration 550: error = 0.2202976, gradient norm = 0.0001713 (50 iterations in 0.153s)\n",
      "[t-SNE] Iteration 600: error = 0.2194744, gradient norm = 0.0001882 (50 iterations in 0.209s)\n",
      "[t-SNE] Iteration 650: error = 0.2188343, gradient norm = 0.0001751 (50 iterations in 0.141s)\n",
      "[t-SNE] Iteration 700: error = 0.2182815, gradient norm = 0.0003843 (50 iterations in 0.146s)\n",
      "[t-SNE] Iteration 750: error = 0.2178024, gradient norm = 0.0001721 (50 iterations in 0.131s)\n",
      "[t-SNE] Iteration 800: error = 0.2175737, gradient norm = 0.0001602 (50 iterations in 0.144s)\n",
      "[t-SNE] Iteration 850: error = 0.2171283, gradient norm = 0.0001848 (50 iterations in 0.132s)\n",
      "[t-SNE] Iteration 900: error = 0.2164067, gradient norm = 0.0005016 (50 iterations in 0.145s)\n",
      "[t-SNE] Iteration 950: error = 0.2161164, gradient norm = 0.0001667 (50 iterations in 0.135s)\n",
      "[t-SNE] Iteration 1000: error = 0.2163260, gradient norm = 0.0000986 (50 iterations in 0.142s)\n",
      "[t-SNE] KL divergence after 1000 iterations: 0.216326\n"
     ]
    }
   ],
   "source": [
    "tsne = TSNE(n_components=2, verbose=2, perplexity=40, n_iter=1000)\n",
    "tsne_results = tsne.fit_transform(cancer.data)"
   ]
  },
  {
   "cell_type": "code",
   "execution_count": 80,
   "metadata": {
    "colab": {},
    "colab_type": "code",
    "id": "rO41E334uJFS",
    "outputId": "b922bdc0-3c71-44b9-9ac2-2aa8b8b64339",
    "scrolled": false
   },
   "outputs": [
    {
     "name": "stdout",
     "output_type": "stream",
     "text": [
      "[t-SNE] Computing 121 nearest neighbors...\n",
      "[t-SNE] Indexed 569 samples in 0.004s...\n",
      "[t-SNE] Computed neighbors for 569 samples in 0.027s...\n",
      "[t-SNE] Computed conditional probabilities for sample 569 / 569\n",
      "[t-SNE] Mean sigma: 33.679708\n",
      "[t-SNE] KL divergence after 250 iterations with early exaggeration: 49.013996\n",
      "[t-SNE] KL divergence after 1000 iterations: 0.218542\n"
     ]
    }
   ],
   "source": [
    "tsne = TSNE(n_components=2, verbose=1, perplexity=40, n_iter=1000)\n",
    "tsne_results = tsne.fit_transform(cancer.data)"
   ]
  },
  {
   "cell_type": "code",
   "execution_count": 76,
   "metadata": {
    "colab": {},
    "colab_type": "code",
    "id": "8ZNKi2H1uJFW",
    "outputId": "35ae552f-3a89-4cf5-d7dc-fe73323695b7",
    "scrolled": true
   },
   "outputs": [
    {
     "data": {
      "image/png": "[encoded data removed]",
      "text/plain": [
       "<Figure size 576x432 with 1 Axes>"
      ]
     },
     "metadata": {
      "needs_background": "light"
     },
     "output_type": "display_data"
    }
   ],
   "source": [
    "m = ['v','o']\n",
    "c = ['r','b']\n",
    "plt.figure(figsize=(8,6))\n",
    "for i in range(len(y)):\n",
    "    plt.scatter(tsne_results[:,0][i],tsne_results[:,1][i], marker=m[y[i]], c=c[y[i]], s=5)\n",
    "plt.show()"
   ]
  },
  {
   "cell_type": "markdown",
   "metadata": {
    "colab_type": "text",
    "id": "jV56k7qEuJFZ"
   },
   "source": [
    "### 표준화 후 시각화"
   ]
  },
  {
   "cell_type": "code",
   "execution_count": 77,
   "metadata": {
    "colab": {},
    "colab_type": "code",
    "id": "KGpq6HO_uJFa",
    "outputId": "8889e270-9aad-4719-abde-5c554e5e558f",
    "scrolled": true
   },
   "outputs": [
    {
     "name": "stdout",
     "output_type": "stream",
     "text": [
      "[t-SNE] Computing 121 nearest neighbors...\n",
      "[t-SNE] Indexed 569 samples in 0.002s...\n",
      "[t-SNE] Computed neighbors for 569 samples in 0.061s...\n",
      "[t-SNE] Computed conditional probabilities for sample 569 / 569\n",
      "[t-SNE] Mean sigma: 1.522404\n",
      "[t-SNE] KL divergence after 250 iterations with early exaggeration: 64.292145\n",
      "[t-SNE] KL divergence after 1000 iterations: 0.892300\n"
     ]
    }
   ],
   "source": [
    "tsne = TSNE(n_components=2, verbose=1, perplexity=40, n_iter=1000)\n",
    "tsne_results = tsne.fit_transform(X_all)"
   ]
  },
  {
   "cell_type": "code",
   "execution_count": 78,
   "metadata": {
    "colab": {},
    "colab_type": "code",
    "id": "yEHImKxGuJFd",
    "outputId": "d14e36e6-74c6-428f-bbe5-148477c10037",
    "scrolled": true
   },
   "outputs": [
    {
     "data": {
      "image/png": "[encoded data removed]",
      "text/plain": [
       "<Figure size 576x432 with 1 Axes>"
      ]
     },
     "metadata": {
      "needs_background": "light"
     },
     "output_type": "display_data"
    }
   ],
   "source": [
    "m = ['v','o']\n",
    "c = ['r','b']\n",
    "plt.figure(figsize=(8,6))\n",
    "for i in range(len(y)):\n",
    "    plt.scatter(tsne_results[:,0][i],tsne_results[:,1][i], marker=m[y[i]], c=c[y[i]], s=5)\n",
    "plt.show()"
   ]
  },
  {
   "cell_type": "code",
   "execution_count": null,
   "metadata": {},
   "outputs": [],
   "source": []
  }
 ],
 "metadata": {
  "colab": {
   "collapsed_sections": [],
   "name": "gg_42_주성분분석_tSNE_유방암.ipynb",
   "provenance": [],
   "version": "0.3.2"
  },
  "kernelspec": {
   "display_name": "Python 3",
   "language": "python",
   "name": "python3"
  },
  "language_info": {
   "codemirror_mode": {
    "name": "ipython",
    "version": 3
   },
   "file_extension": ".py",
   "mimetype": "text/x-python",
   "name": "python",
   "nbconvert_exporter": "python",
   "pygments_lexer": "ipython3",
   "version": "3.8.3"
  }
 },
 "nbformat": 4,
 "nbformat_minor": 1
}
