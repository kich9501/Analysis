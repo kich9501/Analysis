{
 "cells": [
  {
   "cell_type": "markdown",
   "metadata": {},
   "source": [
    "# 영문 이름으로 성별 예측\n",
    "- 미국 남녀 이름의 alphabet을 보고 남녀 성별을 예측"
   ]
  },
  {
   "cell_type": "markdown",
   "metadata": {},
   "source": [
    "- nltk : natural language toolkit\n",
    "- nltk에서 제공하는 남녀 이름 database를 download"
   ]
  },
  {
   "cell_type": "code",
   "execution_count": 1,
   "metadata": {
    "scrolled": false
   },
   "outputs": [
    {
     "name": "stderr",
     "output_type": "stream",
     "text": [
      "[nltk_data] Downloading package names to\n",
      "[nltk_data]     C:\\Users\\user\\AppData\\Roaming\\nltk_data...\n",
      "[nltk_data]   Unzipping corpora\\names.zip.\n"
     ]
    },
    {
     "data": {
      "text/plain": [
       "True"
      ]
     },
     "execution_count": 1,
     "metadata": {},
     "output_type": "execute_result"
    }
   ],
   "source": [
    "from nltk.corpus import names\n",
    "import nltk\n",
    "\n",
    "nltk.download('names')"
   ]
  },
  {
   "cell_type": "markdown",
   "metadata": {},
   "source": [
    "- male.txt : 남자 이름 database\n",
    "- female.txt : 여자 이름 database"
   ]
  },
  {
   "cell_type": "code",
   "execution_count": 2,
   "metadata": {
    "scrolled": false
   },
   "outputs": [
    {
     "data": {
      "text/plain": [
       "[('Aamir', '남자'),\n",
       " ('Aaron', '남자'),\n",
       " ('Abbey', '남자'),\n",
       " ('Abbie', '남자'),\n",
       " ('Abbot', '남자'),\n",
       " ('Abbott', '남자'),\n",
       " ('Abby', '남자'),\n",
       " ('Abdel', '남자'),\n",
       " ('Abdul', '남자'),\n",
       " ('Abdulkarim', '남자')]"
      ]
     },
     "execution_count": 2,
     "metadata": {},
     "output_type": "execute_result"
    }
   ],
   "source": [
    "labeled_names = ([(name, '남자') for name in names.words('male.txt')] + \n",
    "                 [(name, '여자') for name in names.words('female.txt')])\n",
    "labeled_names[:10]"
   ]
  },
  {
   "cell_type": "code",
   "execution_count": 3,
   "metadata": {},
   "outputs": [
    {
     "data": {
      "text/plain": [
       "[('Julia', '여자'),\n",
       " ('Cy', '남자'),\n",
       " ('Archon', '남자'),\n",
       " ('Duke', '남자'),\n",
       " ('Izak', '남자'),\n",
       " ('Eleonore', '여자'),\n",
       " ('Piet', '남자'),\n",
       " ('Bernd', '남자'),\n",
       " ('Haskel', '남자'),\n",
       " ('Vernor', '남자')]"
      ]
     },
     "execution_count": 3,
     "metadata": {},
     "output_type": "execute_result"
    }
   ],
   "source": [
    "import random\n",
    "\n",
    "random.shuffle(labeled_names,  )\n",
    "labeled_names[0:10]"
   ]
  },
  {
   "cell_type": "markdown",
   "metadata": {},
   "source": [
    "- gender_features() : 마지막 글자 한 자만 추출한다.\n",
    "   * 이름의 마지막 문자가 성별과 많이 관련있다고 알려져 있다. 확인 필요\n",
    "   * 마지막 문자를 이용해 성별을 예측해 보는 모델 생성"
   ]
  },
  {
   "cell_type": "code",
   "execution_count": 4,
   "metadata": {},
   "outputs": [
    {
     "data": {
      "text/plain": [
       "{'last_letter': 'i'}"
      ]
     },
     "execution_count": 4,
     "metadata": {},
     "output_type": "execute_result"
    }
   ],
   "source": [
    "def gender_features(word):\n",
    "    return {'last_letter': word[-1]}\n",
    "\n",
    "gender_features('Sopi')"
   ]
  },
  {
   "cell_type": "code",
   "execution_count": 5,
   "metadata": {},
   "outputs": [
    {
     "data": {
      "text/plain": [
       "[({'last_letter': 'a'}, '여자'),\n",
       " ({'last_letter': 'y'}, '남자'),\n",
       " ({'last_letter': 'n'}, '남자'),\n",
       " ({'last_letter': 'e'}, '남자'),\n",
       " ({'last_letter': 'k'}, '남자'),\n",
       " ({'last_letter': 'e'}, '여자'),\n",
       " ({'last_letter': 't'}, '남자'),\n",
       " ({'last_letter': 'd'}, '남자'),\n",
       " ({'last_letter': 'l'}, '남자'),\n",
       " ({'last_letter': 'r'}, '남자')]"
      ]
     },
     "execution_count": 5,
     "metadata": {},
     "output_type": "execute_result"
    }
   ],
   "source": [
    "featuresets = [(gender_features(n), gender) for (n, gender) in labeled_names]\n",
    "featuresets[0:10]"
   ]
  },
  {
   "cell_type": "code",
   "execution_count": 6,
   "metadata": {},
   "outputs": [
    {
     "data": {
      "text/plain": [
       "7944"
      ]
     },
     "execution_count": 6,
     "metadata": {},
     "output_type": "execute_result"
    }
   ],
   "source": [
    "len(featuresets)"
   ]
  },
  {
   "cell_type": "markdown",
   "metadata": {},
   "source": [
    "### NaiveBaysesClassifier \n",
    "- train_set : 2,000 ~ 끝까지\n",
    "- test_set : 0 ~ 1999"
   ]
  },
  {
   "cell_type": "code",
   "execution_count": 7,
   "metadata": {},
   "outputs": [],
   "source": [
    "train_set, test_set = featuresets[2000:], featuresets[:2000]\n",
    "classifier = nltk.NaiveBayesClassifier.train(train_set)"
   ]
  },
  {
   "cell_type": "code",
   "execution_count": 8,
   "metadata": {},
   "outputs": [
    {
     "data": {
      "text/plain": [
       "'여자'"
      ]
     },
     "execution_count": 8,
     "metadata": {},
     "output_type": "execute_result"
    }
   ],
   "source": [
    "classifier.classify(gender_features('Sephipa'))"
   ]
  },
  {
   "cell_type": "code",
   "execution_count": 9,
   "metadata": {
    "scrolled": true
   },
   "outputs": [
    {
     "name": "stdout",
     "output_type": "stream",
     "text": [
      "Most Informative Features\n",
      "             last_letter = 'k'                남자 : 여자     =     55.9 : 1.0\n",
      "             last_letter = 'a'                여자 : 남자     =     32.8 : 1.0\n",
      "             last_letter = 'p'                남자 : 여자     =     14.4 : 1.0\n",
      "             last_letter = 'v'                남자 : 여자     =     14.4 : 1.0\n",
      "             last_letter = 'f'                남자 : 여자     =     12.8 : 1.0\n"
     ]
    }
   ],
   "source": [
    "#  likelihood ratios\n",
    "classifier.show_most_informative_features(5)"
   ]
  },
  {
   "cell_type": "code",
   "execution_count": 10,
   "metadata": {},
   "outputs": [
    {
     "name": "stdout",
     "output_type": "stream",
     "text": [
      "0.7605\n"
     ]
    }
   ],
   "source": [
    "print(nltk.classify.accuracy(classifier, test_set))"
   ]
  },
  {
   "cell_type": "markdown",
   "metadata": {},
   "source": [
    "### 새로운 특성 사용\n",
    "- 이름의 첫번째 문자\n",
    "- 이름의 마지막 문자\n",
    "- 이름의 전체 길이\n",
    "- 이름에서의 각 alphabet의 빈도 수"
   ]
  },
  {
   "cell_type": "code",
   "execution_count": 11,
   "metadata": {
    "scrolled": true
   },
   "outputs": [
    {
     "data": {
      "text/plain": [
       "{'first_letter': 'j',\n",
       " 'last_letter': 'a',\n",
       " 'length': 6,\n",
       " 'count(a)': 1,\n",
       " 'count(b)': 0,\n",
       " 'count(c)': 0,\n",
       " 'count(d)': 0,\n",
       " 'count(e)': 0,\n",
       " 'count(f)': 0,\n",
       " 'count(g)': 0,\n",
       " 'count(h)': 1,\n",
       " 'count(i)': 0,\n",
       " 'count(j)': 1,\n",
       " 'count(k)': 0,\n",
       " 'count(l)': 0,\n",
       " 'count(m)': 0,\n",
       " 'count(n)': 0,\n",
       " 'count(o)': 1,\n",
       " 'count(p)': 0,\n",
       " 'count(q)': 0,\n",
       " 'count(r)': 0,\n",
       " 'count(s)': 1,\n",
       " 'count(t)': 0,\n",
       " 'count(u)': 1,\n",
       " 'count(v)': 0,\n",
       " 'count(w)': 0,\n",
       " 'count(x)': 0,\n",
       " 'count(y)': 0,\n",
       " 'count(z)': 0}"
      ]
     },
     "execution_count": 11,
     "metadata": {},
     "output_type": "execute_result"
    }
   ],
   "source": [
    "def gender_features2(name):\n",
    "    features = {}\n",
    "    features[\"first_letter\"] = name[0].lower()\n",
    "    features[\"last_letter\"] = name[-1].lower()\n",
    "    features[\"length\"] = len(name)\n",
    "    for letter in 'abcdefghijklmnopqrstuvwxyz':\n",
    "        features[\"count({})\".format(letter)] = name.lower().count(letter)\n",
    "#        features[\"has({})\".format(letter)] = (letter in name.lower())\n",
    "    return features\n",
    "\n",
    "gender_features2('Joshua') "
   ]
  },
  {
   "cell_type": "code",
   "execution_count": 12,
   "metadata": {},
   "outputs": [
    {
     "data": {
      "text/plain": [
       "[('Julia', '여자'),\n",
       " ('Cy', '남자'),\n",
       " ('Archon', '남자'),\n",
       " ('Duke', '남자'),\n",
       " ('Izak', '남자'),\n",
       " ('Eleonore', '여자'),\n",
       " ('Piet', '남자'),\n",
       " ('Bernd', '남자'),\n",
       " ('Haskel', '남자'),\n",
       " ('Vernor', '남자')]"
      ]
     },
     "execution_count": 12,
     "metadata": {},
     "output_type": "execute_result"
    }
   ],
   "source": [
    "labeled_names[0:10]"
   ]
  },
  {
   "cell_type": "code",
   "execution_count": 13,
   "metadata": {},
   "outputs": [
    {
     "data": {
      "text/plain": [
       "[({'first_letter': 'j',\n",
       "   'last_letter': 'a',\n",
       "   'length': 5,\n",
       "   'count(a)': 1,\n",
       "   'count(b)': 0,\n",
       "   'count(c)': 0,\n",
       "   'count(d)': 0,\n",
       "   'count(e)': 0,\n",
       "   'count(f)': 0,\n",
       "   'count(g)': 0,\n",
       "   'count(h)': 0,\n",
       "   'count(i)': 1,\n",
       "   'count(j)': 1,\n",
       "   'count(k)': 0,\n",
       "   'count(l)': 1,\n",
       "   'count(m)': 0,\n",
       "   'count(n)': 0,\n",
       "   'count(o)': 0,\n",
       "   'count(p)': 0,\n",
       "   'count(q)': 0,\n",
       "   'count(r)': 0,\n",
       "   'count(s)': 0,\n",
       "   'count(t)': 0,\n",
       "   'count(u)': 1,\n",
       "   'count(v)': 0,\n",
       "   'count(w)': 0,\n",
       "   'count(x)': 0,\n",
       "   'count(y)': 0,\n",
       "   'count(z)': 0},\n",
       "  '여자'),\n",
       " ({'first_letter': 'c',\n",
       "   'last_letter': 'y',\n",
       "   'length': 2,\n",
       "   'count(a)': 0,\n",
       "   'count(b)': 0,\n",
       "   'count(c)': 1,\n",
       "   'count(d)': 0,\n",
       "   'count(e)': 0,\n",
       "   'count(f)': 0,\n",
       "   'count(g)': 0,\n",
       "   'count(h)': 0,\n",
       "   'count(i)': 0,\n",
       "   'count(j)': 0,\n",
       "   'count(k)': 0,\n",
       "   'count(l)': 0,\n",
       "   'count(m)': 0,\n",
       "   'count(n)': 0,\n",
       "   'count(o)': 0,\n",
       "   'count(p)': 0,\n",
       "   'count(q)': 0,\n",
       "   'count(r)': 0,\n",
       "   'count(s)': 0,\n",
       "   'count(t)': 0,\n",
       "   'count(u)': 0,\n",
       "   'count(v)': 0,\n",
       "   'count(w)': 0,\n",
       "   'count(x)': 0,\n",
       "   'count(y)': 1,\n",
       "   'count(z)': 0},\n",
       "  '남자')]"
      ]
     },
     "execution_count": 13,
     "metadata": {},
     "output_type": "execute_result"
    }
   ],
   "source": [
    "featuresets = [(gender_features2(n), gender) for (n, gender) in labeled_names]\n",
    "featuresets[0:2]"
   ]
  },
  {
   "cell_type": "code",
   "execution_count": 14,
   "metadata": {
    "scrolled": true
   },
   "outputs": [
    {
     "name": "stdout",
     "output_type": "stream",
     "text": [
      "0.7795\n"
     ]
    }
   ],
   "source": [
    "train_set, test_set = featuresets[2000:], featuresets[:2000]\n",
    "classifier = nltk.NaiveBayesClassifier.train(train_set)\n",
    "print(nltk.classify.accuracy(classifier, test_set))"
   ]
  },
  {
   "cell_type": "code",
   "execution_count": 15,
   "metadata": {},
   "outputs": [
    {
     "name": "stdout",
     "output_type": "stream",
     "text": [
      "Most Informative Features\n",
      "             last_letter = 'k'                남자 : 여자     =     55.9 : 1.0\n",
      "             last_letter = 'a'                여자 : 남자     =     32.8 : 1.0\n",
      "             last_letter = 'p'                남자 : 여자     =     14.4 : 1.0\n",
      "             last_letter = 'v'                남자 : 여자     =     14.4 : 1.0\n",
      "             last_letter = 'f'                남자 : 여자     =     12.8 : 1.0\n",
      "             last_letter = 'd'                남자 : 여자     =     11.2 : 1.0\n",
      "             last_letter = 'b'                남자 : 여자     =      9.3 : 1.0\n",
      "             last_letter = 'm'                남자 : 여자     =      8.8 : 1.0\n",
      "             last_letter = 'o'                남자 : 여자     =      7.4 : 1.0\n",
      "             last_letter = 'r'                남자 : 여자     =      7.0 : 1.0\n",
      "                count(v) = 2                  여자 : 남자     =      6.7 : 1.0\n",
      "             last_letter = 'z'                남자 : 여자     =      6.6 : 1.0\n",
      "            first_letter = 'w'                남자 : 여자     =      5.4 : 1.0\n",
      "             last_letter = 'w'                남자 : 여자     =      4.8 : 1.0\n",
      "                count(w) = 1                  남자 : 여자     =      4.6 : 1.0\n",
      "             last_letter = 'g'                남자 : 여자     =      4.6 : 1.0\n",
      "                count(i) = 3                  남자 : 여자     =      4.5 : 1.0\n",
      "             last_letter = 't'                남자 : 여자     =      4.2 : 1.0\n",
      "                count(a) = 3                  여자 : 남자     =      4.1 : 1.0\n",
      "                count(w) = 2                  남자 : 여자     =      4.0 : 1.0\n",
      "                count(m) = 3                  남자 : 여자     =      4.0 : 1.0\n",
      "             last_letter = 'u'                남자 : 여자     =      4.0 : 1.0\n",
      "             last_letter = 's'                남자 : 여자     =      4.0 : 1.0\n",
      "                count(u) = 2                  남자 : 여자     =      3.7 : 1.0\n",
      "                count(f) = 2                  남자 : 여자     =      3.5 : 1.0\n",
      "                count(o) = 2                  남자 : 여자     =      3.4 : 1.0\n",
      "                count(n) = 3                  여자 : 남자     =      3.3 : 1.0\n",
      "                count(l) = 3                  여자 : 남자     =      3.2 : 1.0\n",
      "            first_letter = 'u'                남자 : 여자     =      3.2 : 1.0\n",
      "             last_letter = 'i'                여자 : 남자     =      3.2 : 1.0\n",
      "                count(a) = 2                  여자 : 남자     =      3.0 : 1.0\n",
      "                count(d) = 3                  남자 : 여자     =      2.9 : 1.0\n",
      "                count(e) = 3                  여자 : 남자     =      2.7 : 1.0\n",
      "            first_letter = 'k'                여자 : 남자     =      2.4 : 1.0\n",
      "                count(y) = 2                  여자 : 남자     =      2.4 : 1.0\n",
      "            first_letter = 'h'                남자 : 여자     =      2.4 : 1.0\n",
      "            first_letter = 'q'                남자 : 여자     =      2.3 : 1.0\n",
      "                count(p) = 3                  여자 : 남자     =      2.1 : 1.0\n",
      "             last_letter = 'n'                남자 : 여자     =      2.0 : 1.0\n",
      "                  length = 3                  남자 : 여자     =      2.0 : 1.0\n",
      "                count(p) = 1                  남자 : 여자     =      2.0 : 1.0\n",
      "                count(d) = 2                  남자 : 여자     =      2.0 : 1.0\n",
      "                count(h) = 2                  남자 : 여자     =      2.0 : 1.0\n",
      "                count(u) = 1                  남자 : 여자     =      1.9 : 1.0\n",
      "                count(p) = 2                  남자 : 여자     =      1.9 : 1.0\n",
      "             last_letter = 'e'                여자 : 남자     =      1.8 : 1.0\n",
      "                count(r) = 2                  남자 : 여자     =      1.8 : 1.0\n",
      "                count(i) = 2                  여자 : 남자     =      1.8 : 1.0\n",
      "            first_letter = 'l'                여자 : 남자     =      1.8 : 1.0\n",
      "                count(n) = 2                  여자 : 남자     =      1.7 : 1.0\n",
      "                count(h) = 3                  남자 : 여자     =      1.7 : 1.0\n",
      "                count(e) = 4                  여자 : 남자     =      1.7 : 1.0\n",
      "                count(t) = 3                  여자 : 남자     =      1.7 : 1.0\n",
      "                count(k) = 2                  여자 : 남자     =      1.7 : 1.0\n",
      "                  length = 12                 남자 : 여자     =      1.7 : 1.0\n",
      "                  length = 2                  남자 : 여자     =      1.7 : 1.0\n",
      "                  length = 15                 남자 : 여자     =      1.7 : 1.0\n",
      "            first_letter = 'c'                여자 : 남자     =      1.7 : 1.0\n",
      "            first_letter = 't'                남자 : 여자     =      1.7 : 1.0\n",
      "                count(e) = 2                  여자 : 남자     =      1.7 : 1.0\n",
      "                count(t) = 2                  여자 : 남자     =      1.6 : 1.0\n",
      "                count(f) = 1                  남자 : 여자     =      1.6 : 1.0\n",
      "                count(l) = 2                  여자 : 남자     =      1.6 : 1.0\n",
      "                  length = 10                 여자 : 남자     =      1.6 : 1.0\n",
      "                count(a) = 0                  남자 : 여자     =      1.5 : 1.0\n",
      "             last_letter = 'x'                남자 : 여자     =      1.5 : 1.0\n",
      "                count(v) = 1                  남자 : 여자     =      1.5 : 1.0\n",
      "             last_letter = 'l'                남자 : 여자     =      1.5 : 1.0\n",
      "            first_letter = 'p'                남자 : 여자     =      1.5 : 1.0\n",
      "            first_letter = 'z'                남자 : 여자     =      1.5 : 1.0\n",
      "             last_letter = 'h'                남자 : 여자     =      1.5 : 1.0\n",
      "            first_letter = 'm'                여자 : 남자     =      1.4 : 1.0\n",
      "                count(g) = 1                  남자 : 여자     =      1.4 : 1.0\n",
      "                count(o) = 1                  남자 : 여자     =      1.4 : 1.0\n",
      "            first_letter = 's'                남자 : 여자     =      1.4 : 1.0\n",
      "                  length = 11                 남자 : 여자     =      1.4 : 1.0\n",
      "                count(h) = 1                  남자 : 여자     =      1.4 : 1.0\n",
      "                count(s) = 1                  남자 : 여자     =      1.4 : 1.0\n",
      "                count(i) = 1                  여자 : 남자     =      1.4 : 1.0\n",
      "            first_letter = 'v'                여자 : 남자     =      1.3 : 1.0\n",
      "            first_letter = 'y'                남자 : 여자     =      1.3 : 1.0\n",
      "            first_letter = 'r'                남자 : 여자     =      1.3 : 1.0\n",
      "                count(z) = 1                  남자 : 여자     =      1.3 : 1.0\n",
      "                  length = 9                  여자 : 남자     =      1.3 : 1.0\n",
      "                count(b) = 2                  여자 : 남자     =      1.3 : 1.0\n",
      "                count(c) = 2                  남자 : 여자     =      1.3 : 1.0\n",
      "                count(i) = 0                  남자 : 여자     =      1.3 : 1.0\n",
      "             last_letter = 'y'                남자 : 여자     =      1.3 : 1.0\n",
      "                count(t) = 1                  남자 : 여자     =      1.3 : 1.0\n",
      "            first_letter = 'n'                여자 : 남자     =      1.3 : 1.0\n",
      "                count(s) = 2                  여자 : 남자     =      1.3 : 1.0\n",
      "            first_letter = 'o'                남자 : 여자     =      1.3 : 1.0\n",
      "                count(l) = 1                  여자 : 남자     =      1.3 : 1.0\n",
      "            first_letter = 'j'                여자 : 남자     =      1.3 : 1.0\n",
      "                count(b) = 1                  남자 : 여자     =      1.2 : 1.0\n",
      "            first_letter = 'e'                여자 : 남자     =      1.2 : 1.0\n",
      "                  length = 4                  남자 : 여자     =      1.2 : 1.0\n",
      "                count(s) = 3                  남자 : 여자     =      1.2 : 1.0\n",
      "                count(d) = 1                  남자 : 여자     =      1.2 : 1.0\n",
      "            first_letter = 'g'                남자 : 여자     =      1.2 : 1.0\n"
     ]
    }
   ],
   "source": [
    "classifier.show_most_informative_features(100)"
   ]
  },
  {
   "cell_type": "markdown",
   "metadata": {},
   "source": [
    "### 잘못 예측한 경우에 대한 조사"
   ]
  },
  {
   "cell_type": "code",
   "execution_count": 16,
   "metadata": {},
   "outputs": [],
   "source": [
    "train_names = labeled_names[1500:]\n",
    "devtest_names = labeled_names[500:1500]\n",
    "test_names = labeled_names[:500]"
   ]
  },
  {
   "cell_type": "code",
   "execution_count": 17,
   "metadata": {},
   "outputs": [
    {
     "name": "stdout",
     "output_type": "stream",
     "text": [
      "0.759\n"
     ]
    }
   ],
   "source": [
    "train_set = [(gender_features(n), gender) for (n, gender) in train_names]\n",
    "devtest_set = [(gender_features(n), gender) for (n, gender) in devtest_names]\n",
    "test_set = [(gender_features(n), gender) for (n, gender) in test_names]\n",
    "classifier = nltk.NaiveBayesClassifier.train(train_set)\n",
    "print(nltk.classify.accuracy(classifier, devtest_set)) "
   ]
  },
  {
   "cell_type": "code",
   "execution_count": 18,
   "metadata": {},
   "outputs": [
    {
     "data": {
      "text/plain": [
       "[({'last_letter': 'a'}, '여자'),\n",
       " ({'last_letter': 'n'}, '남자'),\n",
       " ({'last_letter': 's'}, '여자'),\n",
       " ({'last_letter': 'd'}, '여자'),\n",
       " ({'last_letter': 'a'}, '여자'),\n",
       " ({'last_letter': 'a'}, '여자'),\n",
       " ({'last_letter': 'y'}, '여자'),\n",
       " ({'last_letter': 'l'}, '남자'),\n",
       " ({'last_letter': 'a'}, '여자'),\n",
       " ({'last_letter': 'r'}, '여자'),\n",
       " ({'last_letter': 'l'}, '남자'),\n",
       " ({'last_letter': 'e'}, '남자'),\n",
       " ({'last_letter': 'e'}, '남자'),\n",
       " ({'last_letter': 'n'}, '여자'),\n",
       " ({'last_letter': 'e'}, '여자'),\n",
       " ({'last_letter': 'y'}, '남자'),\n",
       " ({'last_letter': 'n'}, '남자'),\n",
       " ({'last_letter': 'a'}, '여자'),\n",
       " ({'last_letter': 'a'}, '여자'),\n",
       " ({'last_letter': 'a'}, '여자')]"
      ]
     },
     "execution_count": 18,
     "metadata": {},
     "output_type": "execute_result"
    }
   ],
   "source": [
    "train_set[:20]"
   ]
  },
  {
   "cell_type": "code",
   "execution_count": 19,
   "metadata": {},
   "outputs": [],
   "source": [
    "errors = []\n",
    "for (name, tag) in devtest_names:\n",
    "    guess = classifier.classify(gender_features(name))\n",
    "    if guess != tag:\n",
    "        errors.append( (tag, guess, name) )"
   ]
  },
  {
   "cell_type": "code",
   "execution_count": 20,
   "metadata": {},
   "outputs": [
    {
     "name": "stdout",
     "output_type": "stream",
     "text": [
      "correct=남자       guess=여자       name=Abbey                         \n",
      "correct=남자       guess=여자       name=Adolph                        \n",
      "correct=남자       guess=여자       name=Aguste                        \n",
      "correct=남자       guess=여자       name=Alaa                          \n",
      "correct=남자       guess=여자       name=Aldrich                       \n",
      "correct=남자       guess=여자       name=Alex                          \n",
      "correct=남자       guess=여자       name=Amery                         \n",
      "correct=남자       guess=여자       name=Andrea                        \n",
      "correct=남자       guess=여자       name=Andy                          \n",
      "correct=남자       guess=여자       name=Ansell                        \n",
      "correct=남자       guess=여자       name=Antoine                       \n",
      "correct=남자       guess=여자       name=Averell                       \n",
      "correct=남자       guess=여자       name=Barnie                        \n",
      "correct=남자       guess=여자       name=Bartholemy                    \n",
      "correct=남자       guess=여자       name=Benjy                         \n",
      "correct=남자       guess=여자       name=Bennie                        \n",
      "correct=남자       guess=여자       name=Benny                         \n",
      "correct=남자       guess=여자       name=Billie                        \n",
      "correct=남자       guess=여자       name=Blayne                        \n",
      "correct=남자       guess=여자       name=Boyce                         \n",
      "correct=남자       guess=여자       name=Brice                         \n",
      "correct=남자       guess=여자       name=Broddie                       \n",
      "correct=남자       guess=여자       name=Buddy                         \n",
      "correct=남자       guess=여자       name=Burke                         \n",
      "correct=남자       guess=여자       name=Cary                          \n",
      "correct=남자       guess=여자       name=Chase                         \n",
      "correct=남자       guess=여자       name=Churchill                     \n",
      "correct=남자       guess=여자       name=Clarke                        \n",
      "correct=남자       guess=여자       name=Clive                         \n",
      "correct=남자       guess=여자       name=Clyde                         \n",
      "correct=남자       guess=여자       name=Connie                        \n",
      "correct=남자       guess=여자       name=Connolly                      \n",
      "correct=남자       guess=여자       name=Conway                        \n",
      "correct=남자       guess=여자       name=Corby                         \n",
      "correct=남자       guess=여자       name=Corey                         \n",
      "correct=남자       guess=여자       name=Danny                         \n",
      "correct=남자       guess=여자       name=Del                           \n",
      "correct=남자       guess=여자       name=Deryl                         \n",
      "correct=남자       guess=여자       name=Dominique                     \n",
      "correct=남자       guess=여자       name=Duffie                        \n",
      "correct=남자       guess=여자       name=Dwane                         \n",
      "correct=남자       guess=여자       name=Dwayne                        \n",
      "correct=남자       guess=여자       name=Edsel                         \n",
      "correct=남자       guess=여자       name=Ellsworth                     \n",
      "correct=남자       guess=여자       name=Emmery                        \n",
      "correct=남자       guess=여자       name=Erl                           \n",
      "correct=남자       guess=여자       name=Fidel                         \n",
      "correct=남자       guess=여자       name=Filipe                        \n",
      "correct=남자       guess=여자       name=Gabriel                       \n",
      "correct=남자       guess=여자       name=Garcia                        \n",
      "correct=남자       guess=여자       name=Garth                         \n",
      "correct=남자       guess=여자       name=Georgia                       \n",
      "correct=남자       guess=여자       name=Graeme                        \n",
      "correct=남자       guess=여자       name=Hadleigh                      \n",
      "correct=남자       guess=여자       name=Hamel                         \n",
      "correct=남자       guess=여자       name=Hamish                        \n",
      "correct=남자       guess=여자       name=Helmuth                       \n",
      "correct=남자       guess=여자       name=Herve                         \n",
      "correct=남자       guess=여자       name=Hiralal                       \n",
      "correct=남자       guess=여자       name=Ignace                        \n",
      "correct=남자       guess=여자       name=Ishmael                       \n",
      "correct=남자       guess=여자       name=Ismail                        \n",
      "correct=남자       guess=여자       name=Jeffie                        \n",
      "correct=남자       guess=여자       name=Jefry                         \n",
      "correct=남자       guess=여자       name=Jerry                         \n",
      "correct=남자       guess=여자       name=Jessee                        \n",
      "correct=남자       guess=여자       name=Jessie                        \n",
      "correct=남자       guess=여자       name=Jimmy                         \n",
      "correct=남자       guess=여자       name=Jodie                         \n",
      "correct=남자       guess=여자       name=Joey                          \n",
      "correct=남자       guess=여자       name=Julie                         \n",
      "correct=남자       guess=여자       name=Keil                          \n",
      "correct=남자       guess=여자       name=Kelley                        \n",
      "correct=남자       guess=여자       name=Kendal                        \n",
      "correct=남자       guess=여자       name=Lane                          \n",
      "correct=남자       guess=여자       name=Laurence                      \n",
      "correct=남자       guess=여자       name=Lawerence                     \n",
      "correct=남자       guess=여자       name=Lyle                          \n",
      "correct=남자       guess=여자       name=Manuel                        \n",
      "correct=남자       guess=여자       name=Merell                        \n",
      "correct=남자       guess=여자       name=Merill                        \n",
      "correct=남자       guess=여자       name=Merrill                       \n",
      "correct=남자       guess=여자       name=Michal                        \n",
      "correct=남자       guess=여자       name=Michel                        \n",
      "correct=남자       guess=여자       name=Mickey                        \n",
      "correct=남자       guess=여자       name=Monroe                        \n",
      "correct=남자       guess=여자       name=Morse                         \n",
      "correct=남자       guess=여자       name=Mugsy                         \n",
      "correct=남자       guess=여자       name=Munroe                        \n",
      "correct=남자       guess=여자       name=Nathanael                     \n",
      "correct=남자       guess=여자       name=Nathanil                      \n",
      "correct=남자       guess=여자       name=Neil                          \n",
      "correct=남자       guess=여자       name=Noel                          \n",
      "correct=남자       guess=여자       name=Osbourne                      \n",
      "correct=남자       guess=여자       name=Ossie                         \n",
      "correct=남자       guess=여자       name=Ozzy                          \n",
      "correct=남자       guess=여자       name=Page                          \n",
      "correct=남자       guess=여자       name=Pail                          \n",
      "correct=남자       guess=여자       name=Parsifal                      \n",
      "correct=남자       guess=여자       name=Poul                          \n",
      "correct=남자       guess=여자       name=Rabi                          \n",
      "correct=남자       guess=여자       name=Ramsey                        \n",
      "correct=남자       guess=여자       name=Randi                         \n",
      "correct=남자       guess=여자       name=Randy                         \n",
      "correct=남자       guess=여자       name=Rawley                        \n",
      "correct=남자       guess=여자       name=Rey                           \n",
      "correct=남자       guess=여자       name=Ricky                         \n",
      "correct=남자       guess=여자       name=Robbie                        \n",
      "correct=남자       guess=여자       name=Rodolphe                      \n",
      "correct=남자       guess=여자       name=Rolph                         \n",
      "correct=남자       guess=여자       name=Rube                          \n",
      "correct=남자       guess=여자       name=Ruddie                        \n",
      "correct=남자       guess=여자       name=Russel                        \n",
      "correct=남자       guess=여자       name=Sammie                        \n",
      "correct=남자       guess=여자       name=Shayne                        \n",
      "correct=남자       guess=여자       name=Shea                          \n",
      "correct=남자       guess=여자       name=Sherlocke                     \n",
      "correct=남자       guess=여자       name=Si                            \n",
      "correct=남자       guess=여자       name=Siffre                        \n",
      "correct=남자       guess=여자       name=Sloane                        \n",
      "correct=남자       guess=여자       name=Sparky                        \n",
      "correct=남자       guess=여자       name=Spike                         \n",
      "correct=남자       guess=여자       name=Stanley                       \n",
      "correct=남자       guess=여자       name=Stearne                       \n",
      "correct=남자       guess=여자       name=Stevy                         \n",
      "correct=남자       guess=여자       name=Stinky                        \n",
      "correct=남자       guess=여자       name=Sunny                         \n",
      "correct=남자       guess=여자       name=Tanny                         \n",
      "correct=남자       guess=여자       name=Tedie                         \n",
      "correct=남자       guess=여자       name=Terry                         \n",
      "correct=남자       guess=여자       name=Thayne                        \n",
      "correct=남자       guess=여자       name=Thornie                       \n",
      "correct=남자       guess=여자       name=Tobe                          \n",
      "correct=남자       guess=여자       name=Tommie                        \n",
      "correct=남자       guess=여자       name=Tommy                         \n",
      "correct=남자       guess=여자       name=Tray                          \n",
      "correct=남자       guess=여자       name=Udall                         \n",
      "correct=남자       guess=여자       name=Valentine                     \n",
      "correct=남자       guess=여자       name=Vance                         \n",
      "correct=남자       guess=여자       name=Verge                         \n",
      "correct=남자       guess=여자       name=Wallace                       \n",
      "correct=남자       guess=여자       name=Wallie                        \n",
      "correct=남자       guess=여자       name=Way                           \n",
      "correct=남자       guess=여자       name=Welsh                         \n",
      "correct=남자       guess=여자       name=Wendell                       \n",
      "correct=남자       guess=여자       name=Willey                        \n",
      "correct=남자       guess=여자       name=Wojciech                      \n",
      "correct=남자       guess=여자       name=Woody                         \n",
      "correct=남자       guess=여자       name=Wye                           \n",
      "correct=남자       guess=여자       name=Yancy                         \n",
      "correct=남자       guess=여자       name=Zechariah                     \n",
      "correct=남자       guess=여자       name=Zedekiah                      \n",
      "correct=남자       guess=여자       name=Zollie                        \n",
      "correct=여자       guess=남자       name=Aileen                        \n",
      "correct=여자       guess=남자       name=Alisun                        \n",
      "correct=여자       guess=남자       name=Ardeen                        \n",
      "correct=여자       guess=남자       name=Aryn                          \n",
      "correct=여자       guess=남자       name=Astrid                        \n",
      "correct=여자       guess=남자       name=Babs                          \n",
      "correct=여자       guess=남자       name=Barb                          \n",
      "correct=여자       guess=남자       name=Beau                          \n",
      "correct=여자       guess=남자       name=Bert                          \n",
      "correct=여자       guess=남자       name=Bev                           \n",
      "correct=여자       guess=남자       name=Birgit                        \n",
      "correct=여자       guess=남자       name=Brier                         \n",
      "correct=여자       guess=남자       name=Brynn                         \n",
      "correct=여자       guess=남자       name=Caren                         \n",
      "correct=여자       guess=남자       name=Carlin                        \n",
      "correct=여자       guess=남자       name=Cherlyn                       \n",
      "correct=여자       guess=남자       name=Cindelyn                      \n",
      "correct=여자       guess=남자       name=Cinnamon                      \n",
      "correct=여자       guess=남자       name=Coleen                        \n",
      "correct=여자       guess=남자       name=Coralyn                       \n",
      "correct=여자       guess=남자       name=Coreen                        \n",
      "correct=여자       guess=남자       name=Cyb                           \n",
      "correct=여자       guess=남자       name=Dareen                        \n",
      "correct=여자       guess=남자       name=Daryn                         \n",
      "correct=여자       guess=남자       name=Deb                           \n",
      "correct=여자       guess=남자       name=Dionis                        \n",
      "correct=여자       guess=남자       name=Doralynn                      \n",
      "correct=여자       guess=남자       name=Easter                        \n",
      "correct=여자       guess=남자       name=Eden                          \n",
      "correct=여자       guess=남자       name=Elizabet                      \n",
      "correct=여자       guess=남자       name=Fiann                         \n",
      "correct=여자       guess=남자       name=Fleur                         \n",
      "correct=여자       guess=남자       name=Flo                           \n",
      "correct=여자       guess=남자       name=Garland                       \n",
      "correct=여자       guess=남자       name=Gert                          \n",
      "correct=여자       guess=남자       name=Gertrud                       \n",
      "correct=여자       guess=남자       name=Glad                          \n",
      "correct=여자       guess=남자       name=Gwendolin                     \n",
      "correct=여자       guess=남자       name=Harriot                       \n",
      "correct=여자       guess=남자       name=Harriott                      \n",
      "correct=여자       guess=남자       name=Inez                          \n",
      "correct=여자       guess=남자       name=Ivett                         \n",
      "correct=여자       guess=남자       name=Jo-Ann                        \n",
      "correct=여자       guess=남자       name=Jocelin                       \n",
      "correct=여자       guess=남자       name=Jojo                          \n",
      "correct=여자       guess=남자       name=Jonis                         \n",
      "correct=여자       guess=남자       name=Karlen                        \n",
      "correct=여자       guess=남자       name=Kathryn                       \n",
      "correct=여자       guess=남자       name=Kellyann                      \n",
      "correct=여자       guess=남자       name=Kit                           \n",
      "correct=여자       guess=남자       name=Koren                         \n",
      "correct=여자       guess=남자       name=Kris                          \n",
      "correct=여자       guess=남자       name=Kristin                       \n",
      "correct=여자       guess=남자       name=Lark                          \n",
      "correct=여자       guess=남자       name=Laureen                       \n",
      "correct=여자       guess=남자       name=Leland                        \n",
      "correct=여자       guess=남자       name=Linet                         \n",
      "correct=여자       guess=남자       name=Loralyn                       \n",
      "correct=여자       guess=남자       name=Lurleen                       \n",
      "correct=여자       guess=남자       name=Lyn                           \n",
      "correct=여자       guess=남자       name=Mab                           \n",
      "correct=여자       guess=남자       name=Margot                        \n",
      "correct=여자       guess=남자       name=Marilyn                       \n",
      "correct=여자       guess=남자       name=Marj                          \n",
      "correct=여자       guess=남자       name=Maureen                       \n",
      "correct=여자       guess=남자       name=Megen                         \n",
      "correct=여자       guess=남자       name=Milissent                     \n",
      "correct=여자       guess=남자       name=Nan                           \n",
      "correct=여자       guess=남자       name=Norean                        \n",
      "correct=여자       guess=남자       name=Pru                           \n",
      "correct=여자       guess=남자       name=Rhianon                       \n",
      "correct=여자       guess=남자       name=Rianon                        \n",
      "correct=여자       guess=남자       name=Rosalind                      \n",
      "correct=여자       guess=남자       name=Rosamund                      \n",
      "correct=여자       guess=남자       name=Roz                           \n",
      "correct=여자       guess=남자       name=Shannon                       \n",
      "correct=여자       guess=남자       name=Sher                          \n",
      "correct=여자       guess=남자       name=Sib                           \n",
      "correct=여자       guess=남자       name=Suellen                       \n",
      "correct=여자       guess=남자       name=Suzan                         \n",
      "correct=여자       guess=남자       name=Thomasin                      \n",
      "correct=여자       guess=남자       name=Velvet                        \n",
      "correct=여자       guess=남자       name=Venus                         \n",
      "correct=여자       guess=남자       name=Violet                        \n",
      "correct=여자       guess=남자       name=Vivian                        \n",
      "correct=여자       guess=남자       name=Vivyan                        \n",
      "correct=여자       guess=남자       name=Willow                        \n",
      "correct=여자       guess=남자       name=Wynn                          \n"
     ]
    }
   ],
   "source": [
    "for (tag, guess, name) in sorted(errors):\n",
    "    print('correct={:<8} guess={:<8s} name={:<30}'.format(tag, guess, name))"
   ]
  },
  {
   "cell_type": "markdown",
   "metadata": {},
   "source": [
    "### 사용 특성\n",
    "- 마지막 두 문자 "
   ]
  },
  {
   "cell_type": "code",
   "execution_count": 21,
   "metadata": {},
   "outputs": [],
   "source": [
    "def gender_features(word):\n",
    "    return {'suffix1': word[-1:],\n",
    "            'suffix2': word[-2:]}"
   ]
  },
  {
   "cell_type": "code",
   "execution_count": 22,
   "metadata": {},
   "outputs": [
    {
     "name": "stdout",
     "output_type": "stream",
     "text": [
      "0.798\n"
     ]
    }
   ],
   "source": [
    "train_set = [(gender_features(n), gender) for (n, gender) in train_names]\n",
    "devtest_set = [(gender_features(n), gender) for (n, gender) in devtest_names]\n",
    "classifier = nltk.NaiveBayesClassifier.train(train_set)\n",
    "print(nltk.classify.accuracy(classifier, devtest_set))"
   ]
  },
  {
   "cell_type": "code",
   "execution_count": 23,
   "metadata": {},
   "outputs": [
    {
     "data": {
      "text/plain": [
       "[('Carlina', '여자'),\n",
       " ('Darren', '남자'),\n",
       " ('Philis', '여자'),\n",
       " ('Rosalynd', '여자'),\n",
       " ('Elicia', '여자'),\n",
       " ('Phaidra', '여자'),\n",
       " ('Essy', '여자'),\n",
       " ('Mikhail', '남자'),\n",
       " ('Marietta', '여자'),\n",
       " ('Brear', '여자'),\n",
       " ('Gil', '남자'),\n",
       " ('Arne', '남자'),\n",
       " ('Samuele', '남자'),\n",
       " ('Karmen', '여자'),\n",
       " ('Harrie', '여자'),\n",
       " ('Geoffry', '남자'),\n",
       " ('Marven', '남자'),\n",
       " ('Delora', '여자'),\n",
       " ('Cosetta', '여자'),\n",
       " ('Kyla', '여자')]"
      ]
     },
     "execution_count": 23,
     "metadata": {},
     "output_type": "execute_result"
    }
   ],
   "source": [
    "# train_set[:20]\n",
    "train_names[:20]"
   ]
  }
 ],
 "metadata": {
  "kernelspec": {
   "display_name": "Python 3",
   "language": "python",
   "name": "python3"
  },
  "language_info": {
   "codemirror_mode": {
    "name": "ipython",
    "version": 3
   },
   "file_extension": ".py",
   "mimetype": "text/x-python",
   "name": "python",
   "nbconvert_exporter": "python",
   "pygments_lexer": "ipython3",
   "version": "3.8.3"
  }
 },
 "nbformat": 4,
 "nbformat_minor": 2
}
